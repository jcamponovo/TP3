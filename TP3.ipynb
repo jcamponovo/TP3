{
 "cells": [
  {
   "cell_type": "markdown",
   "metadata": {},
   "source": [
    "# TP3 - Loi de Boyle-Mariotte + Hydrostatique\n",
    "\n",
    "<h2>Travail demandé:</h2>\n",
    "Exécutez l'ensemble du document en utilisant le menu \"kernel\" puis \"Restart and run all\"\n",
    "\n",
    "<ol><li> Inscrire vos réponses, programmes, images dans les blocs réponse prévus pour construire votre compte rendu</li>\n",
    "<li> Vous pouvez tester et/ou modifier les différents morceaux de code proposés</li>\n",
    "<li> Sauvegardez régulièrement votre travail. Attention, la sauvegarde se fait dans un espace temporaire et le fichier sera perdu au bout de quelques heures. </li>\n",
    "<li> Téléchargez votre fichier au <b>format Notebook</b> si vous souhaitez pouvoir le <b>modifier plus tard</b>. Téléchargez le au <b> format html</b> si vous souhaitez simplement une <b>trace écrite</b> ou pour le rendre au professeur.</li></ol>"
   ]
  },
  {
   "cell_type": "code",
   "execution_count": 1,
   "metadata": {},
   "outputs": [
    {
     "data": {
      "text/html": [
       "<script>\n",
       "code_show=true; \n",
       "function code_toggle() {\n",
       "  if (code_show) {\n",
       "    $('div.input').each(function(id) {\n",
       "      el = $(this).find('.cm-variable:first');\n",
       "      if (id == 0 || el.text() == 'hide_toggle') {\n",
       "        $(this).hide();\n",
       "        $(this).parent().next().find('div.input').hide();\n",
       "        $(this).parent().next().find('div.output').hide();\n",
       "       \n",
       "      }\n",
       "    });\n",
       "\n",
       "    $('div.output_prompt').css('opacity', 0);\n",
       "  } else {\n",
       "    $('div.input').each(function(id) {\n",
       "    if (id == 0 ){\n",
       "      $(this).show();\n",
       "            $(this).parent().next().find('div.input').show();\n",
       "        $(this).parent().next().find('div.output').show();\n",
       "    }\n",
       "    });\n",
       "    $('div.output_prompt').css('opacity', 1);\n",
       "  \n",
       "  }\n",
       "  code_show = !code_show\n",
       "} \n",
       "\n",
       "$( document ).ready(code_toggle);\n",
       "</script>"
      ],
      "text/plain": [
       "<IPython.core.display.HTML object>"
      ]
     },
     "execution_count": 1,
     "metadata": {},
     "output_type": "execute_result"
    }
   ],
   "source": [
    "# This is a cell to hide code snippets from displaying\n",
    "# This must be at first cell!\n",
    "\n",
    "from IPython.display import HTML\n",
    "\n",
    "hide_me = ''\n",
    "HTML('''<script>\n",
    "code_show=true; \n",
    "function code_toggle() {\n",
    "  if (code_show) {\n",
    "    $('div.input').each(function(id) {\n",
    "      el = $(this).find('.cm-variable:first');\n",
    "      if (id == 0 || el.text() == 'hide_toggle') {\n",
    "        $(this).hide();\n",
    "        $(this).parent().next().find('div.input').hide();\n",
    "        $(this).parent().next().find('div.output').hide();\n",
    "       \n",
    "      }\n",
    "    });\n",
    "\n",
    "    $('div.output_prompt').css('opacity', 0);\n",
    "  } else {\n",
    "    $('div.input').each(function(id) {\n",
    "    if (id == 0 ){\n",
    "      $(this).show();\n",
    "            $(this).parent().next().find('div.input').show();\n",
    "        $(this).parent().next().find('div.output').show();\n",
    "    }\n",
    "    });\n",
    "    $('div.output_prompt').css('opacity', 1);\n",
    "  \n",
    "  }\n",
    "  code_show = !code_show\n",
    "} \n",
    "\n",
    "$( document ).ready(code_toggle);\n",
    "</script>''')\n",
    "#<form action=\"javascript:code_toggle()\"><input style=\"opacity:0\" type=\"submit\" value=\"Click here to toggle on/off the raw code.\"></form>''')"
   ]
  },
  {
   "cell_type": "code",
   "execution_count": 2,
   "metadata": {},
   "outputs": [],
   "source": [
    "# fonction pour cacher une cellule\n",
    "# à exécuter une fois au début pour la mettre en mémoire\n",
    "\n",
    "from IPython.display import HTML\n",
    "import random\n",
    "\n",
    "\n",
    "\n",
    "def hide_toggle(for_next=True,texte=\"Montrer/cacher\"):\n",
    "    this_cell = \"\"\"$('div.cell.code_cell.rendered.selected')\"\"\"\n",
    "    next_cell = this_cell + '.next()'\n",
    "  \n",
    "\n",
    "    toggle_text = texte  # text shown on toggle link\n",
    "    target_cell = this_cell  # target cell to control with toggle\n",
    "    js_hide_current = ''  # bit of JS to permanently hide code in current cell (only when toggling next cell)\n",
    "\n",
    "    if for_next:\n",
    "        target_cell = next_cell\n",
    "        js_hide_current = this_cell + '.find(\"div.input\").hide();'+this_cell+ '.find(\"div.output\").hide();'\n",
    "\n",
    "    js_f_name = f'code_toggle_{random.randint(1,2**64)}'\n",
    "\n",
    "    html = \"\"\"\n",
    "        <script>\n",
    "            function {f_name}() {{\n",
    "                {cell_selector}.find('div.input').toggle();\n",
    "                {cell_selector}.find('div.output').toggle();\n",
    "                {this_cell}.find('div.input').hide();\n",
    "\n",
    "            }}\n",
    "             $('div.prompt').hide();\n",
    "        </script>\n",
    "\n",
    "        <form action=\"javascript:{f_name}()\"><input type=\"submit\" id=\"toggleButton\" value={toggle_text}></form>\n",
    "    \"\"\".format(\n",
    "        f_name=js_f_name,\n",
    "        cell_selector=target_cell,\n",
    "        js_hide_current=js_hide_current, \n",
    "        toggle_text=toggle_text,\n",
    "        this_cell=this_cell\n",
    "    )\n",
    "    \n",
    "\n",
    "    return HTML(html)\n",
    "\n",
    "\n"
   ]
  },
  {
   "cell_type": "code",
   "execution_count": 3,
   "metadata": {},
   "outputs": [
    {
     "data": {
      "text/html": [
       "\n",
       "        <script>\n",
       "            function code_toggle_1406237580597148222() {\n",
       "                $('div.cell.code_cell.rendered.selected').next().find('div.input').toggle();\n",
       "                $('div.cell.code_cell.rendered.selected').next().find('div.output').toggle();\n",
       "                $('div.cell.code_cell.rendered.selected').find('div.input').hide();\n",
       "\n",
       "            }\n",
       "             $('div.prompt').hide();\n",
       "        </script>\n",
       "\n",
       "        <form action=\"javascript:code_toggle_1406237580597148222()\"><input type=\"submit\" id=\"toggleButton\" value=Montrer/cacher></form>\n",
       "    "
      ],
      "text/plain": [
       "<IPython.core.display.HTML object>"
      ]
     },
     "execution_count": 3,
     "metadata": {},
     "output_type": "execute_result"
    }
   ],
   "source": [
    "hide_toggle()"
   ]
  },
  {
   "cell_type": "code",
   "execution_count": 4,
   "metadata": {},
   "outputs": [
    {
     "name": "stdout",
     "output_type": "stream",
     "text": [
      "Requirement already satisfied: matplotlib in /home/camponovo/.local/lib/python3.7/site-packages (2.2.2)\n",
      "Requirement already satisfied: pytz in /home/camponovo/.local/lib/python3.7/site-packages (from matplotlib) (2019.1)\n",
      "Requirement already satisfied: numpy>=1.7.1 in /usr/lib/python3/dist-packages (from matplotlib) (1.16.2)\n",
      "Requirement already satisfied: pyparsing!=2.0.4,!=2.1.2,!=2.1.6,>=2.0.1 in /usr/local/lib/python3.7/dist-packages (from matplotlib) (2.3.0)\n",
      "Requirement already satisfied: six>=1.10 in /usr/lib/python3/dist-packages (from matplotlib) (1.12.0)\n",
      "Requirement already satisfied: kiwisolver>=1.0.1 in /usr/local/lib/python3.7/dist-packages (from matplotlib) (1.0.1)\n",
      "Requirement already satisfied: cycler>=0.10 in /usr/local/lib/python3.7/dist-packages (from matplotlib) (0.10.0)\n",
      "Requirement already satisfied: python-dateutil>=2.1 in /usr/local/lib/python3.7/dist-packages (from matplotlib) (2.7.5)\n",
      "Requirement already satisfied: setuptools in /usr/lib/python3/dist-packages (from kiwisolver>=1.0.1->matplotlib) (40.8.0)\n",
      "Requirement already satisfied: scipy in /usr/lib/python3/dist-packages (1.1.0)\n"
     ]
    }
   ],
   "source": [
    "# Installation des bibliothèques à exécuter une fois au début\n",
    "!pip install matplotlib\n",
    "!pip install scipy\n"
   ]
  },
  {
   "cell_type": "markdown",
   "metadata": {},
   "source": [
    "<h3>Matériel :</h3>\n",
    "<ul><li>Arduino nano</li>\n",
    "    <li>Breadboard</li>\n",
    "    <li>Fils</li>\n",
    "    <li>MPX5500DP</li>\n",
    "    <li>Ordinateur</li></ul>\n",
    "    <br>\n",
    "<h3>Logiciels :</h3>\n",
    "<ul><li>Navigateur web type Mozilla firefox</li>\n",
    "    <li>IDE Arduino</li></ul>\n",
    "    <br>"
   ]
  },
  {
   "cell_type": "code",
   "execution_count": 5,
   "metadata": {},
   "outputs": [],
   "source": [
    "# imports à exécuter une fois au début\n",
    "from math import pi\n",
    "from scipy.optimize import curve_fit\n",
    "import matplotlib.pyplot as plt"
   ]
  },
  {
   "cell_type": "markdown",
   "metadata": {},
   "source": [
    "# Sujet\n",
    "\n",
    "<p>Nous avons ici regroupé plusieurs TPs, une étude expérimentale de la loi de Boyle-Mariotte. Puis une étude de la pression hydrostatique.</p>\n",
    "\n",
    "<p>Bien que cela ne soit pas obligatoire dans le cadre des nouveaux programmes de physique-chimie, nous vous proposons des TP à base de cartes Arduino et capteur pour que vous puissiez vous rendre compte de la facilité de mise en œuvre et de la qualité des résultats obtenus pour un coût extrêmement réduit.</p>\n",
    "\n",
    "<p>Le TP peut bien sûr être adapté au matériel disponible dans vos lycées tout en conservant la partie python</p>\n",
    "\n",
    "<h2>Partie 1 - Loi de Boyle-Mariotte</h2>\n",
    "<br>\n",
    "<p>Pour étudier la courbe P = f(V) puis P = f(1/V),  nous allons utiliser une carte Arduino et un capteur sensible à la pression le MPX5500DP branché à une seringue graduée permettant de connaître le volume. La seringue est reliée au capteur par un tube en plastique souple.</p>\n",
    "\n",
    "<p>Réalisez le montage proposé sur <b>la figure 1.</b>  sans relier la carte Arduino à l’ordinateur pour l'instant.</p>\n",
    "<br>\n",
    "<p><center><b>Figure 1. Montage à réaliser</b>\n",
    "<img src=\"./TP3_figure1.png\"></center></p>"
   ]
  },
  {
   "cell_type": "markdown",
   "metadata": {},
   "source": [
    "<b>1°)</b> Mesurer la <b>longueur h</b> du tube en plastique et son <b>diamètre intérieur d</b>. Calculez <b style=\"color:red;\">sur python</b> le volume du tube en mL et stockez le dans une variable VtubemL."
   ]
  },
  {
   "cell_type": "code",
   "execution_count": 6,
   "metadata": {},
   "outputs": [],
   "source": [
    "h = 0.\n",
    "d = 0.\n",
    "VtubemL = 0."
   ]
  },
  {
   "cell_type": "code",
   "execution_count": 7,
   "metadata": {},
   "outputs": [
    {
     "data": {
      "text/html": [
       "\n",
       "        <script>\n",
       "            function code_toggle_18117014832047700386() {\n",
       "                $('div.cell.code_cell.rendered.selected').next().find('div.input').toggle();\n",
       "                $('div.cell.code_cell.rendered.selected').next().find('div.output').toggle();\n",
       "                $('div.cell.code_cell.rendered.selected').find('div.input').hide();\n",
       "\n",
       "            }\n",
       "             $('div.prompt').hide();\n",
       "        </script>\n",
       "\n",
       "        <form action=\"javascript:code_toggle_18117014832047700386()\"><input type=\"submit\" id=\"toggleButton\" value=Montrer/cacher></form>\n",
       "    "
      ],
      "text/plain": [
       "<IPython.core.display.HTML object>"
      ]
     },
     "execution_count": 7,
     "metadata": {},
     "output_type": "execute_result"
    }
   ],
   "source": [
    "hide_toggle(\"Correction\")"
   ]
  },
  {
   "cell_type": "code",
   "execution_count": 8,
   "metadata": {},
   "outputs": [
    {
     "name": "stdout",
     "output_type": "stream",
     "text": [
      "Le tube a un volume V = 3.02E-06 m³\n",
      "Ce volume correspond à 3.0 mL\n"
     ]
    }
   ],
   "source": [
    "#Mesures avec notre tube lors des essais\n",
    "h = 24e-2 #m\n",
    "d = 4e-3 #m\n",
    "R = d / 2 #m\n",
    "\n",
    "Vtubem3 = pi*R**2*h\n",
    "print(\"Le tube a un volume V = {:.2E} m\\u00B3\".format(Vtubem3))\n",
    "\n",
    "VtubemL = Vtubem3 * 1e6\n",
    "print(\"Ce volume correspond à {:.1f} mL\".format(VtubemL))"
   ]
  },
  {
   "cell_type": "markdown",
   "metadata": {},
   "source": [
    "Les tensions sont mesurées par le convertisseur analogique numérique de la carte Arduino qui numérise une tension entre 0 et 5V sur 10 bits. Ainsi, la carte nous renvoie une valeur entière entre 0 et 2<sup>10</sup> - 1; 0 pour 0V et 1023 pour 5V.\n",
    "<p><b>2°)</b> Quelle est la tension mesurée lorsque <b>la carte Arduino renvoie 534 ?</b></p>"
   ]
  },
  {
   "cell_type": "raw",
   "metadata": {},
   "source": [
    "\n",
    "\n"
   ]
  },
  {
   "cell_type": "markdown",
   "metadata": {},
   "source": [
    "<p>Les caractéristiques du capteurs (datasheet) nous indiquent que la tension renvoyée par le capteur suit une loi affine par rapport à la pression. Ainsi la valeur de la pression suit une loi affine par rapport à la tension renvoyée par le capteur. La tension renvoyée par le capteur augmente de 4,5 V pour une augmentation de pression de 500000 Pa. La relation entre pression (en Pa) et tension (en V) est :</p>\n",
    "$\\boldsymbol{P\\ =\\ P_0\\ +\\ 500000\\ \\times\\ \\frac{(U\\ -\\ U_0)}{4{,}5}}$ \n",
    "<p>où <b>P<sub>0</sub></b> est la pression atmosphérique, <b>U<sub>0</sub></b> la tension correspondant à cette pression atmosphérique et <b>U</b> la tension renvoyé par le capteur lorsqu’il est soumis à la pression P.</p>\n",
    "<p><b>3°)</b> Complétez le programme arduino <a href=\"./pression.ino\" target=\"_blank\">pression.ino</a> fourni pour qu’il renvoie la valeur de la tension U (en V) donnée par le capteur. </p>"
   ]
  },
  {
   "cell_type": "markdown",
   "metadata": {},
   "source": [
    "<a href=\"./pression_cor.ino\" target=\"_blank\">correction</a>"
   ]
  },
  {
   "cell_type": "markdown",
   "metadata": {},
   "source": [
    "<p><b>4°)</b> A quelle pression correspondrait une tension renvoyée de 1,4 V ?</p>"
   ]
  },
  {
   "cell_type": "raw",
   "metadata": {},
   "source": [
    "\n",
    "\n"
   ]
  },
  {
   "cell_type": "markdown",
   "metadata": {},
   "source": [
    "<p><b>5°)</b> Après avoir fait vérifier votre montage et votre programme, téléversez le dans votre carte Arduino (attention de bien régler <b style=\"color:red;\">le type de carte, le port et le processeur</b>). Mesurez alors la tension <b>U<sub>0</sub></b> correspondant à la pression atmosphérique en utilisant le moniteur série du logiciel Arduino. Stockez cette valeur dans une variable U0 <b style=\"color:red\">sur python</b></p>"
   ]
  },
  {
   "cell_type": "code",
   "execution_count": 9,
   "metadata": {},
   "outputs": [],
   "source": [
    "U0 = 0."
   ]
  },
  {
   "cell_type": "markdown",
   "metadata": {},
   "source": [
    "<b>6°)</b> Ouvrez le programme <a href=\"./pression2.ino\" target=\"_blank\">pression2.ino</a> fourni et <b>téléversez le dans votre carte Arduino</b> (attention de bien régler <b style=\"color:red;\">le type de carte, le port et le processeur)</b>.<p> Qu’apporte ce programme par rapport au précédent ?</p>"
   ]
  },
  {
   "cell_type": "raw",
   "metadata": {},
   "source": [
    "\n",
    "\n"
   ]
  },
  {
   "cell_type": "markdown",
   "metadata": {},
   "source": [
    "<b>7°)</b> Utilisez maintenant la seringue pour faire varier volume et pression. A l’aide du moniteur série, mesurez la tension renvoyée par la carte Arduino pour différents volumes. <b>Réalisez 5 mesures de couples tension (en V) – volume (en mL)</b> et stockez les dans des listes <b style=\"color:red;\">sur python</b>."
   ]
  },
  {
   "cell_type": "code",
   "execution_count": 10,
   "metadata": {},
   "outputs": [],
   "source": [
    "U = []\n",
    "VmL = []"
   ]
  },
  {
   "cell_type": "markdown",
   "metadata": {},
   "source": [
    "<b>8°)</b> Construire <b style=\"color:red;\">à l’aide de python</b> les listes P et V correspondant à la pression totale en Pa et au volume total (seringue + tube) en m³."
   ]
  },
  {
   "cell_type": "code",
   "execution_count": null,
   "metadata": {},
   "outputs": [],
   "source": [
    "\n",
    "\n"
   ]
  },
  {
   "cell_type": "code",
   "execution_count": 11,
   "metadata": {},
   "outputs": [
    {
     "data": {
      "text/html": [
       "\n",
       "        <script>\n",
       "            function code_toggle_13577948984473651664() {\n",
       "                $('div.cell.code_cell.rendered.selected').next().find('div.input').toggle();\n",
       "                $('div.cell.code_cell.rendered.selected').next().find('div.output').toggle();\n",
       "                $('div.cell.code_cell.rendered.selected').find('div.input').hide();\n",
       "\n",
       "            }\n",
       "             $('div.prompt').hide();\n",
       "        </script>\n",
       "\n",
       "        <form action=\"javascript:code_toggle_13577948984473651664()\"><input type=\"submit\" id=\"toggleButton\" value=Correction></form>\n",
       "    "
      ],
      "text/plain": [
       "<IPython.core.display.HTML object>"
      ]
     },
     "execution_count": 11,
     "metadata": {},
     "output_type": "execute_result"
    }
   ],
   "source": [
    "hide_toggle(texte=\"Correction\")"
   ]
  },
  {
   "cell_type": "code",
   "execution_count": 12,
   "metadata": {},
   "outputs": [],
   "source": [
    "#Nos données expérimentales:\n",
    "n0 = 37 #Mesure à Patm\n",
    "U0 = 0.00489*n0\n",
    "\n",
    "n = [37,72,122,211,366] #Mesures expérimentales\n",
    "U = [0.00489*val for val in n]\n",
    "\n",
    "Vml = [57.,47.,37.,27.,17.]\n",
    "VtubemL = 3.\n",
    "\n",
    "P = [101325 + 500000*(val - U0)/4.5 for val in U]\n",
    "V = [(val + VtubemL) / 1e6 for val in Vml]"
   ]
  },
  {
   "cell_type": "markdown",
   "metadata": {},
   "source": [
    "<b>10°)</b> Ecrire ci-dessous <b style=\"color:red;\">un programme python</b> permettant de tracer le graphique représentant <b>P en fonction de V</b> pour vos mesures. Vous prendrez soin de mettre un titre, et des informations sur les deux axes.\n",
    "<p>Vous pourrez utiliser <a href=\"./methode_courbe.ipynb\" target=\"_blank\">la fiche méthode fournie</a>.</p>"
   ]
  },
  {
   "cell_type": "code",
   "execution_count": null,
   "metadata": {},
   "outputs": [],
   "source": [
    "\n",
    "\n"
   ]
  },
  {
   "cell_type": "code",
   "execution_count": 13,
   "metadata": {},
   "outputs": [
    {
     "data": {
      "text/html": [
       "\n",
       "        <script>\n",
       "            function code_toggle_10057969466843187667() {\n",
       "                $('div.cell.code_cell.rendered.selected').next().find('div.input').toggle();\n",
       "                $('div.cell.code_cell.rendered.selected').next().find('div.output').toggle();\n",
       "                $('div.cell.code_cell.rendered.selected').find('div.input').hide();\n",
       "\n",
       "            }\n",
       "             $('div.prompt').hide();\n",
       "        </script>\n",
       "\n",
       "        <form action=\"javascript:code_toggle_10057969466843187667()\"><input type=\"submit\" id=\"toggleButton\" value=Correction></form>\n",
       "    "
      ],
      "text/plain": [
       "<IPython.core.display.HTML object>"
      ]
     },
     "execution_count": 13,
     "metadata": {},
     "output_type": "execute_result"
    }
   ],
   "source": [
    "hide_toggle(texte=\"Correction\")"
   ]
  },
  {
   "cell_type": "code",
   "execution_count": 14,
   "metadata": {},
   "outputs": [
    {
     "data": {
      "image/png": "[encoded data removed]",
      "text/plain": [
       "<Figure size 432x288 with 1 Axes>"
      ]
     },
     "metadata": {
      "needs_background": "light"
     },
     "output_type": "display_data"
    }
   ],
   "source": [
    "plt.plot(V,P,\"+\")\n",
    "plt.xlabel(\"Volume (m\\u00B3)\")\n",
    "plt.ylabel(\"Pression(Pa)\")\n",
    "plt.title(\"Pression en fonction du Volume\")\n",
    "plt.xticks([0.000020,0.000030,0.000040,0.000050,0.000060])\n",
    "plt.show()"
   ]
  },
  {
   "cell_type": "markdown",
   "metadata": {},
   "source": [
    "<b>11°)</b> Les points expérimentaux vous pariassent-ils suivre une loi simple ?"
   ]
  },
  {
   "cell_type": "raw",
   "metadata": {},
   "source": [
    "\n",
    "\n"
   ]
  },
  {
   "cell_type": "markdown",
   "metadata": {},
   "source": [
    "<b>12°)</b> Construire <b style=\"color:red;\">à l'aide de python</b> une liste unsurV correspondant aux valeurs de 1/V avec V en m<sup>3</sup>."
   ]
  },
  {
   "cell_type": "code",
   "execution_count": null,
   "metadata": {},
   "outputs": [],
   "source": [
    "\n",
    "\n"
   ]
  },
  {
   "cell_type": "code",
   "execution_count": 15,
   "metadata": {},
   "outputs": [
    {
     "data": {
      "text/html": [
       "\n",
       "        <script>\n",
       "            function code_toggle_11068238895156132076() {\n",
       "                $('div.cell.code_cell.rendered.selected').next().find('div.input').toggle();\n",
       "                $('div.cell.code_cell.rendered.selected').next().find('div.output').toggle();\n",
       "                $('div.cell.code_cell.rendered.selected').find('div.input').hide();\n",
       "\n",
       "            }\n",
       "             $('div.prompt').hide();\n",
       "        </script>\n",
       "\n",
       "        <form action=\"javascript:code_toggle_11068238895156132076()\"><input type=\"submit\" id=\"toggleButton\" value=Correction></form>\n",
       "    "
      ],
      "text/plain": [
       "<IPython.core.display.HTML object>"
      ]
     },
     "execution_count": 15,
     "metadata": {},
     "output_type": "execute_result"
    }
   ],
   "source": [
    "hide_toggle(texte=\"Correction\")"
   ]
  },
  {
   "cell_type": "code",
   "execution_count": 16,
   "metadata": {},
   "outputs": [],
   "source": [
    "unsurV = []\n",
    "for val in V:\n",
    "    unsurV.append(1/val)"
   ]
  },
  {
   "cell_type": "markdown",
   "metadata": {},
   "source": [
    "<b>13°)</b> Ecrire ci-dessous <b style=\"color:red;\">un programme python</b> permettant de tracer le graphique représentant <b>P en fonction de unsurV</b> pour vos mesures. Vous prendrez soin de mettre un titre, et des informations sur les deux axes."
   ]
  },
  {
   "cell_type": "code",
   "execution_count": null,
   "metadata": {},
   "outputs": [],
   "source": [
    "\n",
    "\n"
   ]
  },
  {
   "cell_type": "code",
   "execution_count": 17,
   "metadata": {},
   "outputs": [
    {
     "data": {
      "text/html": [
       "\n",
       "        <script>\n",
       "            function code_toggle_13803753987711378859() {\n",
       "                $('div.cell.code_cell.rendered.selected').next().find('div.input').toggle();\n",
       "                $('div.cell.code_cell.rendered.selected').next().find('div.output').toggle();\n",
       "                $('div.cell.code_cell.rendered.selected').find('div.input').hide();\n",
       "\n",
       "            }\n",
       "             $('div.prompt').hide();\n",
       "        </script>\n",
       "\n",
       "        <form action=\"javascript:code_toggle_13803753987711378859()\"><input type=\"submit\" id=\"toggleButton\" value=Correction></form>\n",
       "    "
      ],
      "text/plain": [
       "<IPython.core.display.HTML object>"
      ]
     },
     "execution_count": 17,
     "metadata": {},
     "output_type": "execute_result"
    }
   ],
   "source": [
    "hide_toggle(texte=\"Correction\")"
   ]
  },
  {
   "cell_type": "code",
   "execution_count": 18,
   "metadata": {},
   "outputs": [
    {
     "data": {
      "image/png": "[encoded data removed]",
      "text/plain": [
       "<Figure size 432x288 with 1 Axes>"
      ]
     },
     "metadata": {
      "needs_background": "light"
     },
     "output_type": "display_data"
    }
   ],
   "source": [
    "plt.plot(unsurV,P,\"+\",label=\"Points expérimentaux\")\n",
    "plt.xlabel(\"1 / V (m\\u207B\\u00B3)\")\n",
    "plt.ylabel(\"Pression (Pa)\")\n",
    "plt.title(\"Pression en fonction de 1/V\")\n",
    "plt.show()"
   ]
  },
  {
   "cell_type": "markdown",
   "metadata": {},
   "source": [
    "<b>14°)</b> Les points expérimentaux vous paraissent-ils suivre une loi mathématique simple ?\n",
    "<p>Vers quelle valeur tendent la pression et 1 / V lorsque le volume tend vers l'infini ? En déduire le modèle mathématique qui semble adapté ici</p>"
   ]
  },
  {
   "cell_type": "raw",
   "metadata": {},
   "source": [
    "\n",
    "\n"
   ]
  },
  {
   "cell_type": "markdown",
   "metadata": {},
   "source": [
    "<b>15°)</b> Ecrire ci-dessous <b style=\"color:red;\">un programme python</b> permettant de modéliser cette série de données par une fonction adaptée et d'afficher <b>sur un même graphique les points expérimentaux, le modèle et son équation.</b> "
   ]
  },
  {
   "cell_type": "code",
   "execution_count": null,
   "metadata": {},
   "outputs": [],
   "source": [
    "\n",
    "\n"
   ]
  },
  {
   "cell_type": "code",
   "execution_count": 19,
   "metadata": {},
   "outputs": [
    {
     "data": {
      "text/html": [
       "\n",
       "        <script>\n",
       "            function code_toggle_2734298080628595756() {\n",
       "                $('div.cell.code_cell.rendered.selected').next().find('div.input').toggle();\n",
       "                $('div.cell.code_cell.rendered.selected').next().find('div.output').toggle();\n",
       "                $('div.cell.code_cell.rendered.selected').find('div.input').hide();\n",
       "\n",
       "            }\n",
       "             $('div.prompt').hide();\n",
       "        </script>\n",
       "\n",
       "        <form action=\"javascript:code_toggle_2734298080628595756()\"><input type=\"submit\" id=\"toggleButton\" value=Correction></form>\n",
       "    "
      ],
      "text/plain": [
       "<IPython.core.display.HTML object>"
      ]
     },
     "execution_count": 19,
     "metadata": {},
     "output_type": "execute_result"
    }
   ],
   "source": [
    "hide_toggle(texte=\"Correction\")"
   ]
  },
  {
   "cell_type": "code",
   "execution_count": 20,
   "metadata": {},
   "outputs": [
    {
     "data": {
      "image/png": "[encoded data removed]",
      "text/plain": [
       "<Figure size 432x288 with 1 Axes>"
      ]
     },
     "metadata": {
      "needs_background": "light"
     },
     "output_type": "display_data"
    }
   ],
   "source": [
    "def lineaire(x,a):\n",
    "    return a*x\n",
    "    \n",
    "params,covariance = curve_fit(lineaire,unsurV,P)\n",
    "\n",
    "modele=[]\n",
    "x=[0]+unsurV\n",
    "for i in x:\n",
    "    modele.append(lineaire(i,*params))\n",
    "\n",
    "plt.plot(x,modele,label=\"Modele: P = {:.2f} / V\".format(*params))\n",
    "plt.plot(unsurV,P,\"+\",label=\"Points expérimentaux\")\n",
    "plt.xlabel(\"1 / V (m\\u207B\\u00B3)\")\n",
    "plt.ylabel(\"Pression (Pa)\")\n",
    "plt.title(\"Pression en fonction de 1/V\")\n",
    "plt.legend()\n",
    "plt.show()"
   ]
  },
  {
   "cell_type": "markdown",
   "metadata": {},
   "source": [
    "<h2>Partie 2 - Pression Hydrostatique</h2>\n",
    "<p>Remplir une éprouvette graduée d’eau. Retirez la seringue et installer un long tube en plastique souple à la place.</p>\n",
    "<p><b>16°)</b> En utilisant le moniteur série du logiciel Arduino, mesurez la pression à différentes profondeurs sous la surface de l’eau. <b style=\"color:red;\">Attention !</b> La profondeur doit se mesurer entre la surface libre de l’eau et la surface de l’eau dans le tube en plastique (pas le bout du tube).</p>\n",
    " <b>Réalisez 5 mesures de couples pression (en Pa) – profondeur (en m)</b> et stockez les dans des listes <b style=\"color:red;\">sur python</b>."
   ]
  },
  {
   "cell_type": "code",
   "execution_count": 21,
   "metadata": {},
   "outputs": [],
   "source": [
    "P = [] #en Pa\n",
    "h = [] #en m"
   ]
  },
  {
   "cell_type": "markdown",
   "metadata": {},
   "source": [
    "<b>17°)</b> Ecrire ci-dessous <b style=\"color:red;\">un programme python</b> permettant de tracer le graphique représentant <b>P en fonction de la profondeur h</b> pour vos mesures. Vous prendrez soin de mettre un titre, et des informations sur les deux axes."
   ]
  },
  {
   "cell_type": "code",
   "execution_count": null,
   "metadata": {},
   "outputs": [],
   "source": [
    "\n",
    "\n"
   ]
  },
  {
   "cell_type": "code",
   "execution_count": 22,
   "metadata": {},
   "outputs": [
    {
     "data": {
      "text/html": [
       "\n",
       "        <script>\n",
       "            function code_toggle_15323907851351862961() {\n",
       "                $('div.cell.code_cell.rendered.selected').next().find('div.input').toggle();\n",
       "                $('div.cell.code_cell.rendered.selected').next().find('div.output').toggle();\n",
       "                $('div.cell.code_cell.rendered.selected').find('div.input').hide();\n",
       "\n",
       "            }\n",
       "             $('div.prompt').hide();\n",
       "        </script>\n",
       "\n",
       "        <form action=\"javascript:code_toggle_15323907851351862961()\"><input type=\"submit\" id=\"toggleButton\" value=Correction></form>\n",
       "    "
      ],
      "text/plain": [
       "<IPython.core.display.HTML object>"
      ]
     },
     "execution_count": 22,
     "metadata": {},
     "output_type": "execute_result"
    }
   ],
   "source": [
    "hide_toggle(texte=\"Correction\")"
   ]
  },
  {
   "cell_type": "code",
   "execution_count": 23,
   "metadata": {},
   "outputs": [
    {
     "data": {
      "image/png": "[encoded data removed]",
      "text/plain": [
       "<Figure size 432x288 with 1 Axes>"
      ]
     },
     "metadata": {
      "needs_background": "light"
     },
     "output_type": "display_data"
    }
   ],
   "source": [
    "h = [0,0.05,0.1,0.15,0.2,0.25]\n",
    "\n",
    "U = [0., 0.00423, 0.00855, 0.01278, 0.01701, 0.02097]\n",
    "P = [v*500000/4.5 + 101325 for v in U]\n",
    "\n",
    "plt.plot(h,P,\"+\",label=\"Points expérimentaux\")\n",
    "plt.xlabel(\"Profondeur h (m)\")\n",
    "plt.ylabel(\"Pression P (Pa)\")\n",
    "plt.title(\"Pression en fonction de la profondeur dans l'eau\")\n",
    "plt.show()"
   ]
  },
  {
   "cell_type": "markdown",
   "metadata": {},
   "source": [
    "<b>18°)</b> Les points expérimentaux vous paraissent-ils suivre une loi mathématique simple ? En déduire la fonction mathématique qui semble adaptée ici pour <b>P en fonction de le profondeur h</b> pour vos mesures."
   ]
  },
  {
   "cell_type": "raw",
   "metadata": {},
   "source": [
    "\n",
    "\n"
   ]
  },
  {
   "cell_type": "markdown",
   "metadata": {},
   "source": [
    "<b>19°)</b> Ecrire ci-dessous <b style=\"color:red;\">un programme python</b> permettant de modéliser cette série de données par une fonction adaptée et d'afficher <b>sur un même graphique les points expérimentaux, le modèle et son équation.</b> "
   ]
  },
  {
   "cell_type": "code",
   "execution_count": null,
   "metadata": {},
   "outputs": [],
   "source": [
    "\n",
    "\n"
   ]
  },
  {
   "cell_type": "code",
   "execution_count": 24,
   "metadata": {},
   "outputs": [
    {
     "data": {
      "text/html": [
       "\n",
       "        <script>\n",
       "            function code_toggle_9690911900978476673() {\n",
       "                $('div.cell.code_cell.rendered.selected').next().find('div.input').toggle();\n",
       "                $('div.cell.code_cell.rendered.selected').next().find('div.output').toggle();\n",
       "                $('div.cell.code_cell.rendered.selected').find('div.input').hide();\n",
       "\n",
       "            }\n",
       "             $('div.prompt').hide();\n",
       "        </script>\n",
       "\n",
       "        <form action=\"javascript:code_toggle_9690911900978476673()\"><input type=\"submit\" id=\"toggleButton\" value=Correction></form>\n",
       "    "
      ],
      "text/plain": [
       "<IPython.core.display.HTML object>"
      ]
     },
     "execution_count": 24,
     "metadata": {},
     "output_type": "execute_result"
    }
   ],
   "source": [
    "hide_toggle(texte=\"Correction\")"
   ]
  },
  {
   "cell_type": "code",
   "execution_count": 25,
   "metadata": {},
   "outputs": [
    {
     "data": {
      "image/png": "[encoded data removed]",
      "text/plain": [
       "<Figure size 432x288 with 1 Axes>"
      ]
     },
     "metadata": {
      "needs_background": "light"
     },
     "output_type": "display_data"
    }
   ],
   "source": [
    "def affine(x,a,b):\n",
    "    return a*x+b\n",
    "    \n",
    "plt.plot(h,P,\"+\",label=\"Points expérimentaux\")\n",
    "\n",
    "params,cov=curve_fit(affine,h,P)\n",
    "modele=[]\n",
    "for i in h:\n",
    "    modele.append(affine(i,*params))\n",
    "plt.plot(h,modele,label=\"modele: P = {:.0f} h + {:.0f}\".format(*params))\n",
    "plt.xlabel(\"Profondeur h (m)\")\n",
    "plt.ylabel(\"Pression P (Pa)\")\n",
    "plt.title(\"Pression en fonction de la profondeur dans l'eau\")\n",
    "plt.legend()\n",
    "plt.show()"
   ]
  },
  {
   "cell_type": "markdown",
   "metadata": {},
   "source": [
    "<b>20°)</b> Si on fait le lien avec le modèle théorique $\\boldsymbol{P\\ =\\ P_0\\ +\\ \\rho g h}$ où h est la profondeur en m et $\\rho\\ =\\ 1000\\ kg.m^{-3}$, quelle est la valeur de l'accélération de la pesanteur terrestre g ?"
   ]
  },
  {
   "cell_type": "raw",
   "metadata": {},
   "source": [
    "\n",
    "\n"
   ]
  }
 ],
 "metadata": {
  "celltoolbar": "Format de la Cellule Texte Brut",
  "kernelspec": {
   "display_name": "Python 3",
   "language": "python",
   "name": "python3"
  },
  "language_info": {
   "codemirror_mode": {
    "name": "ipython",
    "version": 3
   },
   "file_extension": ".py",
   "mimetype": "text/x-python",
   "name": "python",
   "nbconvert_exporter": "python",
   "pygments_lexer": "ipython3",
   "version": "3.7.3rc1"
  }
 },
 "nbformat": 4,
 "nbformat_minor": 2
}
